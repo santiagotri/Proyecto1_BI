{
 "cells": [
  {
   "cell_type": "markdown",
   "id": "2472e41a",
   "metadata": {},
   "source": [
    "# Proyecto 1 - Inteligencia de negocios ISIS 3301\n",
    "\n",
    "Por:\n",
    "\n",
    "- Juan Sebastián Ramírez 201923800 \n",
    "\n",
    "- Andrés Santiago Triana 201923265 \n",
    "\n",
    "- Gabriela García 201912531 \n",
    "\n",
    "## Comprensión del negocio y enfoque analítico\n",
    "\n"
   ]
  },
  {
   "cell_type": "markdown",
   "id": "997a9baf",
   "metadata": {},
   "source": [
    "## Comprensión de los datos y preparación de los datos \n",
    "\n",
    "Para poder realizar un modelo predictivo de la información de los pacientes es muy importante enteder los datos dados por el negocio.\n",
    "\n",
    "### Importaciones de librerias\n",
    "\n",
    "Es necesario importar las librerias necesarias para la realización del proyecto."
   ]
  },
  {
   "cell_type": "code",
   "execution_count": null,
   "id": "22bd4de4",
   "metadata": {},
   "outputs": [],
   "source": []
  }
 ],
 "metadata": {
  "kernelspec": {
   "display_name": "Python 3.9.7 ('base')",
   "language": "python",
   "name": "python397jvsc74a57bd037a21a02ad185eb4a1bb4ca19d4a43dfc2fef0f963cc518031232c87af23c421"
  },
  "language_info": {
   "codemirror_mode": {
    "name": "ipython",
    "version": 3
   },
   "file_extension": ".py",
   "mimetype": "text/x-python",
   "name": "python",
   "nbconvert_exporter": "python",
   "pygments_lexer": "ipython3",
   "version": "3.9.7"
  },
  "toc": {
   "base_numbering": 1,
   "nav_menu": {},
   "number_sections": true,
   "sideBar": true,
   "skip_h1_title": false,
   "title_cell": "Table of Contents",
   "title_sidebar": "Contents",
   "toc_cell": false,
   "toc_position": {},
   "toc_section_display": true,
   "toc_window_display": false
  }
 },
 "nbformat": 4,
 "nbformat_minor": 5
}
