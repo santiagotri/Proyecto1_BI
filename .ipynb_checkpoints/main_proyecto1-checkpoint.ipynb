{
 "cells": [
  {
   "cell_type": "markdown",
   "id": "ca84963b",
   "metadata": {},
   "source": [
    "# Proyecto 1 - Inteligencia de negocios ISIS 3301\n",
    "\n",
    "Por:\n",
    "\n",
    "- Juan Sebastián Ramírez 201923800 \n",
    "\n",
    "- Andrés Santiago Triana 201923265 \n",
    "\n",
    "- Gabriela García 201912531 \n",
    "\n",
    "## Comprensión del negocio y enfoque analítico\n",
    "\n"
   ]
  },
  {
   "cell_type": "markdown",
   "id": "5c948dfd",
   "metadata": {},
   "source": [
    "## Comprensión de los datos y preparación de los datos \n",
    "\n",
    "Para poder realizar un modelo predictivo de la información de los pacientes es muy importante enteder los datos dados por el negocio.\n",
    "\n",
    "### Importación e Instalación de librerias\n",
    "\n",
    "Debido a que en este proyecto es necesario realizar procesamiento de texto, es necesario instalar ciertas librerias para el manejo del lenguaje inglés. (Contractions, inflex, etc.)"
   ]
  },
  {
   "cell_type": "code",
   "execution_count": null,
   "id": "64e166c9",
   "metadata": {},
   "outputs": [],
   "source": [
    "# Librería para manejar las contracciones que se presentan en el inglés.\n",
    "!pip install contractions"
   ]
  },
  {
   "cell_type": "code",
   "execution_count": null,
   "id": "aed436a1",
   "metadata": {},
   "outputs": [],
   "source": [
    "# librería para manejar las flexiones gramaticales en el idioma inglés.\n",
    "!pip install inflect\n",
    "!pip install pandas-profiling==2.7.1"
   ]
  },
  {
   "cell_type": "code",
   "execution_count": null,
   "id": "46053ae2",
   "metadata": {},
   "outputs": [],
   "source": [
    "# librería Natural Language Toolkit, usada para trabajar con textos \n",
    "import nltk\n",
    "# Punkt permite separar un texto en frases.\n",
    "nltk.download('punkt')"
   ]
  },
  {
   "cell_type": "code",
   "execution_count": null,
   "id": "10ddb429",
   "metadata": {},
   "outputs": [],
   "source": [
    "# Descarga todas las palabras vacias, es decir, aquellas que no aportan nada al significado del texto\n",
    "nltk.download('stopwords')"
   ]
  },
  {
   "cell_type": "code",
   "execution_count": null,
   "id": "40a412dc",
   "metadata": {},
   "outputs": [],
   "source": [
    "# Descarga de paquete WordNetLemmatizer, este es usado para encontrar el lema de cada palabra\n",
    "nltk.download('wordnet')"
   ]
  },
  {
   "cell_type": "code",
   "execution_count": null,
   "id": "a90a69a0",
   "metadata": {},
   "outputs": [],
   "source": []
  },
  {
   "cell_type": "markdown",
   "id": "ef0fdb3a",
   "metadata": {},
   "source": [
    "\n",
    "Es necesario importar las librerias necesarias para la realización del proyecto."
   ]
  },
  {
   "cell_type": "code",
   "execution_count": 4,
   "id": "7317596e",
   "metadata": {
    "ExecuteTime": {
     "end_time": "2022-03-28T16:16:59.415222Z",
     "start_time": "2022-03-28T16:16:59.278363Z"
    }
   },
   "outputs": [],
   "source": [
    "# Librerías para manejo de datos\n",
    "import math\n",
    "import pandas as pd\n",
    "pd.set_option('display.max_columns', 25) # Número máximo de columnas a mostrar\n",
    "pd.set_option('display.max_rows', 50) # Numero máximo de filas a mostar\n",
    "import numpy as np\n",
    "np.random.seed(3301)\n",
    "import pandas as pd\n",
    "# Para preparar los datos\n",
    "from sklearn.preprocessing import LabelEncoder, StandardScaler,MinMaxScaler\n",
    "# Para crear el arbol de decisión \n",
    "from sklearn.tree import DecisionTreeClassifier \n",
    "# Para realizar la separación del conjunto de aprendizaje en entrenamiento y test.\n",
    "from sklearn.model_selection import train_test_split\n",
    "# Para evaluar el modelo\n",
    "from sklearn.metrics import confusion_matrix, classification_report, precision_score, recall_score, f1_score, accuracy_score\n",
    "from sklearn.metrics import plot_confusion_matrix\n",
    "# Para búsqueda de hiperparámetros\n",
    "from sklearn.model_selection import GridSearchCV\n",
    "# Para la validación cruzada\n",
    "from sklearn.model_selection import KFold \n",
    "#Librerías para la visualización\n",
    "import matplotlib.pyplot as plt\n",
    "# Seaborn\n",
    "import seaborn as sns \n",
    "from sklearn import tree\n",
    "import seaborn as sns; sns.set()  # for plot styling\n",
    "\n",
    "from sklearn.cluster import KMeans\n",
    "from sklearn.neighbors import KNeighborsClassifier\n",
    "from sklearn.metrics import silhouette_samples, silhouette_score\n",
    "from matplotlib import cm\n",
    "from mpl_toolkits.mplot3d import Axes3D # for 3D plots\n",
    "\n",
    "from sklearn.mixture import GaussianMixture\n",
    "from sklearn.cluster import AgglomerativeClustering\n",
    "\n",
    "from pandas_profiling import ProfileReport\n",
    "\n",
    "import re, string, unicodedata\n",
    "import contractions\n",
    "import inflect\n",
    "from nltk import word_tokenize, sent_tokenize\n",
    "from nltk.corpus import stopwords\n",
    "from nltk.stem import LancasterStemmer, WordNetLemmatizer\n",
    "\n",
    "\n",
    "from sklearn.model_selection import train_test_split,GridSearchCV\n",
    "from sklearn.feature_extraction.text import TfidfVectorizer, CountVectorizer, HashingVectorizer\n",
    "from sklearn.pipeline import Pipeline, FeatureUnion\n",
    "from sklearn.svm import SVC\n",
    "from sklearn.ensemble import BaggingClassifier, RandomForestClassifier, AdaBoostClassifier\n",
    "from sklearn.naive_bayes import BernoulliNB\n",
    "from sklearn.metrics import classification_report, confusion_matrix, plot_precision_recall_curve\n",
    "from sklearn.base import BaseEstimator, ClassifierMixin\n",
    "\n",
    "import matplotlib.pyplot as plt"
   ]
  },
  {
   "cell_type": "markdown",
   "id": "78cc80b4",
   "metadata": {},
   "source": [
    "Ahora debemos importar los datos dados por el negocio"
   ]
  },
  {
   "cell_type": "code",
   "execution_count": 5,
   "id": "908e2a6d",
   "metadata": {
    "ExecuteTime": {
     "end_time": "2022-03-28T16:17:04.616508Z",
     "start_time": "2022-03-28T16:17:04.561842Z"
    }
   },
   "outputs": [
    {
     "data": {
      "text/plain": [
       "(12000, 2)"
      ]
     },
     "execution_count": 5,
     "metadata": {},
     "output_type": "execute_result"
    }
   ],
   "source": [
    "df_pacientes=pd.read_csv('datos/clinical_trials_on_cancer_data_clasificacion.csv', sep=',',\n",
    "                         encoding = 'utf-8',on_bad_lines='warn',encoding_errors='ignore',\n",
    "                         na_values={'-','NaN'})\n",
    "df_pacientes.shape"
   ]
  },
  {
   "cell_type": "code",
   "execution_count": 3,
   "id": "78f9798c",
   "metadata": {
    "ExecuteTime": {
     "end_time": "2022-03-28T16:10:02.466839Z",
     "start_time": "2022-03-28T16:10:02.444807Z"
    }
   },
   "outputs": [
    {
     "data": {
      "text/html": [
       "<div>\n",
       "<style scoped>\n",
       "    .dataframe tbody tr th:only-of-type {\n",
       "        vertical-align: middle;\n",
       "    }\n",
       "\n",
       "    .dataframe tbody tr th {\n",
       "        vertical-align: top;\n",
       "    }\n",
       "\n",
       "    .dataframe thead th {\n",
       "        text-align: right;\n",
       "    }\n",
       "</style>\n",
       "<table border=\"1\" class=\"dataframe\">\n",
       "  <thead>\n",
       "    <tr style=\"text-align: right;\">\n",
       "      <th></th>\n",
       "      <th>label</th>\n",
       "      <th>study_and_condition</th>\n",
       "    </tr>\n",
       "  </thead>\n",
       "  <tbody>\n",
       "    <tr>\n",
       "      <th>0</th>\n",
       "      <td>__label__0</td>\n",
       "      <td>study interventions are Saracatinib . recurren...</td>\n",
       "    </tr>\n",
       "    <tr>\n",
       "      <th>1</th>\n",
       "      <td>__label__1</td>\n",
       "      <td>study interventions are Stem cell transplantat...</td>\n",
       "    </tr>\n",
       "    <tr>\n",
       "      <th>2</th>\n",
       "      <td>__label__0</td>\n",
       "      <td>study interventions are Lenograstim . recurren...</td>\n",
       "    </tr>\n",
       "    <tr>\n",
       "      <th>3</th>\n",
       "      <td>__label__0</td>\n",
       "      <td>study interventions are Doxorubicin . stage ii...</td>\n",
       "    </tr>\n",
       "    <tr>\n",
       "      <th>4</th>\n",
       "      <td>__label__1</td>\n",
       "      <td>study interventions are Poly I-C . prostate ca...</td>\n",
       "    </tr>\n",
       "    <tr>\n",
       "      <th>5</th>\n",
       "      <td>__label__1</td>\n",
       "      <td>study interventions are Bevacizumab . stage ii...</td>\n",
       "    </tr>\n",
       "    <tr>\n",
       "      <th>6</th>\n",
       "      <td>__label__0</td>\n",
       "      <td>study interventions are Carboplatin . stage ii...</td>\n",
       "    </tr>\n",
       "    <tr>\n",
       "      <th>7</th>\n",
       "      <td>__label__0</td>\n",
       "      <td>study interventions are Vidarabine . stage iv ...</td>\n",
       "    </tr>\n",
       "    <tr>\n",
       "      <th>8</th>\n",
       "      <td>__label__1</td>\n",
       "      <td>study interventions are Dexamethasone 21-phosp...</td>\n",
       "    </tr>\n",
       "    <tr>\n",
       "      <th>9</th>\n",
       "      <td>__label__1</td>\n",
       "      <td>study interventions are Microwave ablation . h...</td>\n",
       "    </tr>\n",
       "  </tbody>\n",
       "</table>\n",
       "</div>"
      ],
      "text/plain": [
       "        label                                study_and_condition\n",
       "0  __label__0  study interventions are Saracatinib . recurren...\n",
       "1  __label__1  study interventions are Stem cell transplantat...\n",
       "2  __label__0  study interventions are Lenograstim . recurren...\n",
       "3  __label__0  study interventions are Doxorubicin . stage ii...\n",
       "4  __label__1  study interventions are Poly I-C . prostate ca...\n",
       "5  __label__1  study interventions are Bevacizumab . stage ii...\n",
       "6  __label__0  study interventions are Carboplatin . stage ii...\n",
       "7  __label__0  study interventions are Vidarabine . stage iv ...\n",
       "8  __label__1  study interventions are Dexamethasone 21-phosp...\n",
       "9  __label__1  study interventions are Microwave ablation . h..."
      ]
     },
     "execution_count": 3,
     "metadata": {},
     "output_type": "execute_result"
    }
   ],
   "source": [
    "df_pacientes.head(10)"
   ]
  },
  {
   "cell_type": "code",
   "execution_count": null,
   "id": "8685bf7f",
   "metadata": {},
   "outputs": [],
   "source": []
  }
 ],
 "metadata": {
  "kernelspec": {
   "display_name": "Python 3.9.7 ('base')",
   "language": "python",
   "name": "python397jvsc74a57bd037a21a02ad185eb4a1bb4ca19d4a43dfc2fef0f963cc518031232c87af23c421"
  },
  "language_info": {
   "codemirror_mode": {
    "name": "ipython",
    "version": 3
   },
   "file_extension": ".py",
   "mimetype": "text/x-python",
   "name": "python",
   "nbconvert_exporter": "python",
   "pygments_lexer": "ipython3",
   "version": "3.9.7"
  },
  "toc": {
   "base_numbering": 1,
   "nav_menu": {},
   "number_sections": true,
   "sideBar": true,
   "skip_h1_title": false,
   "title_cell": "Table of Contents",
   "title_sidebar": "Contents",
   "toc_cell": false,
   "toc_position": {},
   "toc_section_display": true,
   "toc_window_display": false
  }
 },
 "nbformat": 4,
 "nbformat_minor": 5
}
