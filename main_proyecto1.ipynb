{
 "cells": [
  {
   "cell_type": "markdown",
   "id": "665f5489",
   "metadata": {},
   "source": [
    "# Proyecto 1 - Inteligencia de negocios ISIS 3301\n",
    "\n",
    "Por:\n",
    "\n",
    "- Juan Sebastián Ramírez 201923800 \n",
    "\n",
    "- Andrés Santiago Triana 201923265 \n",
    "\n",
    "- Gabriela García 201912531 \n",
    "\n",
    "## Comprensión del negocio y enfoque analítico\n",
    "\n"
   ]
  },
  {
   "cell_type": "markdown",
   "id": "a9d43857",
   "metadata": {},
   "source": [
    "## Comprensión de los datos y preparación de los datos \n",
    "\n",
    "Para poder realizar un modelo predictivo de la información de los pacientes es muy importante enteder los datos dados por el negocio.\n",
    "\n",
    "### Importaciones de librerias\n",
    "\n",
    "Es necesario importar las librerias necesarias para la realización del proyecto."
   ]
  },
  {
   "cell_type": "code",
   "execution_count": 1,
   "id": "d7586ac8",
   "metadata": {
    "ExecuteTime": {
     "end_time": "2022-03-28T16:00:33.296730Z",
     "start_time": "2022-03-28T16:00:32.237086Z"
    }
   },
   "outputs": [],
   "source": [
    "# Librerías para manejo de datos\n",
    "import math\n",
    "import pandas as pd\n",
    "pd.set_option('display.max_columns', 25) # Número máximo de columnas a mostrar\n",
    "pd.set_option('display.max_rows', 50) # Numero máximo de filas a mostar\n",
    "import numpy as np\n",
    "np.random.seed(3301)\n",
    "import pandas as pd\n",
    "# Para preparar los datos\n",
    "from sklearn.preprocessing import LabelEncoder, StandardScaler,MinMaxScaler\n",
    "# Para crear el arbol de decisión \n",
    "from sklearn.tree import DecisionTreeClassifier \n",
    "# Para realizar la separación del conjunto de aprendizaje en entrenamiento y test.\n",
    "from sklearn.model_selection import train_test_split\n",
    "# Para evaluar el modelo\n",
    "from sklearn.metrics import confusion_matrix, classification_report, precision_score, recall_score, f1_score, accuracy_score\n",
    "from sklearn.metrics import plot_confusion_matrix\n",
    "# Para búsqueda de hiperparámetros\n",
    "from sklearn.model_selection import GridSearchCV\n",
    "# Para la validación cruzada\n",
    "from sklearn.model_selection import KFold \n",
    "#Librerías para la visualización\n",
    "import matplotlib.pyplot as plt\n",
    "# Seaborn\n",
    "import seaborn as sns \n",
    "from sklearn import tree\n",
    "import seaborn as sns; sns.set()  # for plot styling\n",
    "\n",
    "from sklearn.cluster import KMeans\n",
    "from sklearn.neighbors import KNeighborsClassifier\n",
    "from sklearn.metrics import silhouette_samples, silhouette_score\n",
    "from matplotlib import cm\n",
    "from mpl_toolkits.mplot3d import Axes3D # for 3D plots\n",
    "\n",
    "from sklearn.mixture import GaussianMixture\n",
    "from sklearn.cluster import AgglomerativeClustering"
   ]
  },
  {
   "cell_type": "markdown",
   "id": "98d1cbdc",
   "metadata": {},
   "source": []
  }
 ],
 "metadata": {
  "kernelspec": {
   "display_name": "Python 3.9.7 ('base')",
   "language": "python",
   "name": "python397jvsc74a57bd037a21a02ad185eb4a1bb4ca19d4a43dfc2fef0f963cc518031232c87af23c421"
  },
  "language_info": {
   "codemirror_mode": {
    "name": "ipython",
    "version": 3
   },
   "file_extension": ".py",
   "mimetype": "text/x-python",
   "name": "python",
   "nbconvert_exporter": "python",
   "pygments_lexer": "ipython3",
   "version": "3.9.7"
  },
  "toc": {
   "base_numbering": 1,
   "nav_menu": {},
   "number_sections": true,
   "sideBar": true,
   "skip_h1_title": false,
   "title_cell": "Table of Contents",
   "title_sidebar": "Contents",
   "toc_cell": false,
   "toc_position": {},
   "toc_section_display": true,
   "toc_window_display": false
  }
 },
 "nbformat": 4,
 "nbformat_minor": 5
}
